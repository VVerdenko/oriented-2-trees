{
  "nbformat": 4,
  "nbformat_minor": 0,
  "metadata": {
    "colab": {
      "provenance": [],
      "authorship_tag": "ABX9TyOkR7t6IhoLq8tCIuLtarEw",
      "include_colab_link": true
    },
    "kernelspec": {
      "name": "python3",
      "display_name": "Python 3"
    },
    "language_info": {
      "name": "python"
    }
  },
  "cells": [
    {
      "cell_type": "markdown",
      "metadata": {
        "id": "view-in-github",
        "colab_type": "text"
      },
      "source": [
        "<a href=\"https://colab.research.google.com/github/VVerdenko/oriented-2-trees/blob/main/2_%D0%B4%D0%B5%D1%80%D0%B5%D0%B2%D1%8C%D1%8F_%D1%87%D0%B0%D1%81%D1%82%D0%B8%D1%87%D0%BD%D0%BE_%D0%BE%D1%80%D0%B8%D0%B5%D0%BD%D1%82%D0%B8%D1%80%D0%BE%D0%B2%D0%B0%D0%BD%D0%BD%D1%8B%D0%B5(%D0%B2%D1%8B%D0%B4%D0%B5%D0%BB%D0%B5%D0%BD%D0%BE_%D0%BF%D0%BE_%D0%B2%D0%B5%D1%80%D1%88%D0%B8%D0%BD%D0%B5_%D0%B2_%D0%BA%D0%B0%D0%B6%D0%B4%D0%BE%D0%B9_%D1%8F%D1%87%D0%B5%D0%B9%D0%BA%D0%B5).ipynb\" target=\"_parent\"><img src=\"https://colab.research.google.com/assets/colab-badge.svg\" alt=\"Open In Colab\"/></a>"
      ]
    },
    {
      "cell_type": "code",
      "execution_count": 1,
      "metadata": {
        "id": "I3u7cZUMdGVA"
      },
      "outputs": [],
      "source": [
        "M_1 = [0] * 100\n",
        "N_1 = [0] * 100\n",
        "M = [0] * 100\n",
        "N = [0] * 100\n",
        "\n",
        "M_S = [0] * 100       # ряды в которые возводим экспоненту для нахождения M и M + 2N соответсвенно\n",
        "N_S = [0] * 100\n",
        "\n",
        "e = [0] * 100   # просто M(x) + 2*N(x) для удобства\n",
        "\n",
        "s_1 = [0] * 100\n",
        "s_0 = [0] * 100\n",
        "\n",
        "s_0_Z = [0] * 100\n",
        "\n",
        "t = [0] * 100\n",
        "\n",
        "sp = []     # sp[n][k] хранит список разбиений числа n на k слогаемых, необходимо чтобы возводить экспоненту в степень с помощью ряда Тейлора\n",
        "f = []      # массив факториалов"
      ]
    },
    {
      "cell_type": "code",
      "source": [
        "def find_f(max_n):\n",
        "  f.append(1)\n",
        "  for i in range(1, max_n+1):\n",
        "    f.append(f[i-1] * i)\n",
        "\n",
        "f = []\n",
        "find_f(20)              # необходимо посчитать достаточно много факториалов и sp, прежде чем считать ряды"
      ],
      "metadata": {
        "id": "2SFE_xl4dq7G"
      },
      "execution_count": 2,
      "outputs": []
    },
    {
      "cell_type": "code",
      "source": [
        "def find_sp(max_n):\n",
        "  sp.append([[[]]])\n",
        "  for i in range(1, max_n + 1):\n",
        "    sp.append([[[]]])\n",
        "    for j in range(1, i + 1):\n",
        "      sp[i].append([[]])\n",
        "    sp[i][1] = [[i]]\n",
        "\n",
        "  # разбиваем n на k + 1 слогаемых, припсывая i в конец разбияения n - i на k слогаемых\n",
        "\n",
        "  for n in range(2, max_n + 1):\n",
        "    for i in range(1, n):\n",
        "      for k in range(1, n - i + 1):\n",
        "\n",
        "        x = sp[n - i][k][:]\n",
        "        for j in range(len(x)):\n",
        "          x[j] = x[j] + [i]\n",
        "        if sp[n][k + 1] == [[]]:\n",
        "          sp[n][k + 1] = x\n",
        "        else:\n",
        "          sp[n][k + 1] += x\n",
        "\n",
        "\n",
        "sp = []\n",
        "find_sp(20)"
      ],
      "metadata": {
        "id": "7p1qFDo-dzsN"
      },
      "execution_count": 15,
      "outputs": []
    },
    {
      "cell_type": "code",
      "source": [
        "def find_M_1(n):\n",
        "  sum = 0\n",
        "  n -= 1\n",
        "  if n % 2 == 0:\n",
        "      k = n // 2\n",
        "      sum += e[k]\n",
        "  M_1[n + 1] = sum\n",
        "  return sum"
      ],
      "metadata": {
        "id": "qofIKS2mfg-v"
      },
      "execution_count": 4,
      "outputs": []
    },
    {
      "cell_type": "code",
      "source": [
        "def find_N_1(n):\n",
        "  sum = 0\n",
        "  n -= 1\n",
        "  # Сперва считаем коэффициент Z(A2 - S2)\n",
        "  # это s1^2\n",
        "  for i in range (1, n):\n",
        "    sum += e[i] * e[n - i]\n",
        "  sum += 2 * e[n]\n",
        "  # это -s2\n",
        "  if n % 2 == 0:\n",
        "    k = n // 2\n",
        "    sum -= e[k]\n",
        "  sum = 3 * sum / 2\n",
        "\n",
        "  if n % 2 == 0:\n",
        "    k = n // 2\n",
        "    sum += e[k]\n",
        "\n",
        "\n",
        "  N_1[n + 1] = sum\n",
        "  return sum"
      ],
      "metadata": {
        "id": "NrNrxqfLfvvX"
      },
      "execution_count": 8,
      "outputs": []
    },
    {
      "cell_type": "code",
      "source": [
        "def find_M(n):\n",
        "  sum = 0\n",
        "  # Сперва посчитаем ряд в который возведем экспоненту\n",
        "  for k in range(1, n + 1):\n",
        "    if n % k == 0:\n",
        "      q = n // k\n",
        "      sum += M_1[q] / k\n",
        "    if n % (2 * k) == 0:\n",
        "      q = n // (2 * k)\n",
        "      sum += N_1[q] / k\n",
        "  M_S[n] = sum\n",
        "\n",
        "  sum = 0\n",
        "  for k in range(1, n + 1):      # номер слогаемого в ряде Тейлора\n",
        "    y = 0\n",
        "    for u in sp[n][k]:          # какие степени взять от каждой скобки, чтобы за к скобок получить н\n",
        "      x = 1\n",
        "      for i in u:\n",
        "        x *= M_S[i]\n",
        "      y += x\n",
        "    sum += y / f[k]\n",
        "\n",
        "\n",
        "  M[n] = sum\n",
        "  return sum"
      ],
      "metadata": {
        "id": "HnQKhF7S2zSO"
      },
      "execution_count": 6,
      "outputs": []
    },
    {
      "cell_type": "code",
      "source": [
        "def find_N(n):\n",
        "  sum = 0\n",
        "  # Сперва посчитаем ряд в который возведем экспоненту\n",
        "  for k in range(1, n + 1):\n",
        "    if n % k == 0:\n",
        "      q = n // k\n",
        "      sum += M_1[q] / k\n",
        "      sum += 2 * N_1[q] / k\n",
        "  N_S[n] = sum\n",
        "\n",
        "  sum = 0\n",
        "  for k in range(1, n + 1):      # номер слогаемого в ряде Тейлора\n",
        "    y = 0\n",
        "    for u in sp[n][k]:          # какие степени взять от каждой скобки, чтобы за к скобок получить н\n",
        "      x = 1\n",
        "      for i in u:\n",
        "        x *= N_S[i]\n",
        "      y += x\n",
        "    sum += y / f[k]\n",
        "\n",
        "  N[n] = (sum - M[n]) / 2\n",
        "  return sum"
      ],
      "metadata": {
        "id": "_Z1_B28r21iF"
      },
      "execution_count": 7,
      "outputs": []
    },
    {
      "cell_type": "code",
      "source": [
        "def find_s_1(n):\n",
        "  sum = 0\n",
        "  for i in range(n):\n",
        "    sum += M_1[i] * M[n - i]\n",
        "  sum += M_1[n]\n",
        "  s_1[n] = sum"
      ],
      "metadata": {
        "id": "hGAG8oPMfB-s"
      },
      "execution_count": 9,
      "outputs": []
    },
    {
      "cell_type": "code",
      "source": [
        "def find_s_0(n):\n",
        "  sum = 0\n",
        "  n -= 1\n",
        "  # Сперва считаем коэффициент Z(A2 - S2)\n",
        "  # это s1^2\n",
        "  for i in range (1, n):\n",
        "    sum += e[i] * e[n - i]\n",
        "  sum += 2 * e[n]\n",
        "  # это -s2\n",
        "  if n % 2 == 0:\n",
        "    k = n // 2\n",
        "    sum -= e[k]\n",
        "  s_0_Z[n] = sum / 2\n",
        "\n",
        "  sum = 0\n",
        "  for i in range(n):\n",
        "    sum += s_0_Z[i] * e[n - i]\n",
        "  sum += s_0_Z[n]\n",
        "\n",
        "  for i in range(n):\n",
        "    if i % 2 == 0:\n",
        "      k = i // 2\n",
        "      sum += e[k] * N[n - i]\n",
        "  sum += N[n]\n",
        "\n",
        "  s_0[n + 1] = sum"
      ],
      "metadata": {
        "id": "cG3dF5uzfCPS"
      },
      "execution_count": 11,
      "outputs": []
    },
    {
      "cell_type": "code",
      "source": [
        "def main(max_n):\n",
        "  M[1] = 1\n",
        "  N[1] = 1\n",
        "  M_1[1] = 1\n",
        "  N_1[1] = 1\n",
        "\n",
        "  e[1] = 3\n",
        "\n",
        "  s_1[1] = 1\n",
        "  s_0[1] = 0\n",
        "\n",
        "  M_S[1] = 1\n",
        "  N_S[1] = 3\n",
        "\n",
        "  for i in range(2, max_n + 1):\n",
        "    find_M_1(i)\n",
        "    find_N_1(i)\n",
        "    find_M(i)\n",
        "    find_N(i)\n",
        "    M_1[i] = round(M_1[i])\n",
        "    N_1[i] = round(N_1[i])\n",
        "    M[i] = round(M[i])\n",
        "    N[i] = round(N[i])\n",
        "\n",
        "    e[i] = M[i] + 2 * N[i]\n",
        "\n",
        "  for i in range(2, max_n + 1):\n",
        "    find_s_1(i)\n",
        "    find_s_0(i)\n",
        "    s_0[i] = round(s_0[i])\n",
        "    s_1[i] = round(s_1[i])\n",
        "\n",
        "  for i in range(1, max_n + 1):\n",
        "    t[i] = N[i] + M[i] - 2 * s_0[i] - s_1[i]\n",
        "\n",
        "main(17)\n",
        "print(\"M_1:\", M_1)\n",
        "print(\"N_1:\", N_1)\n",
        "print(\"M:  \", M)\n",
        "print(\"N:  \", N)\n",
        "print(\"s_0:\", s_0)\n",
        "print(\"s_1:\", s_1)"
      ],
      "metadata": {
        "colab": {
          "base_uri": "https://localhost:8080/"
        },
        "id": "5f4IsLjD24E-",
        "outputId": "e93a08e6-b351-4133-f242-da16257535ce"
      },
      "execution_count": 13,
      "outputs": [
        {
          "output_type": "stream",
          "name": "stdout",
          "text": [
            "M_1: [0, 1, 0, 3, 0, 24, 0, 235, 0, 2649, 0, 32196, 0, 412576, 0, 5483463, 0, 74907651, 0, 0, 0, 0, 0, 0, 0, 0, 0, 0, 0, 0, 0, 0, 0, 0, 0, 0, 0, 0, 0, 0, 0, 0, 0, 0, 0, 0, 0, 0, 0, 0, 0, 0, 0, 0, 0, 0, 0, 0, 0, 0, 0, 0, 0, 0, 0, 0, 0, 0, 0, 0, 0, 0, 0, 0, 0, 0, 0, 0, 0, 0, 0, 0, 0, 0, 0, 0, 0, 0, 0, 0, 0, 0, 0, 0, 0, 0, 0, 0, 0, 0]\n",
            "N_1: [0, 1, 9, 84, 921, 10914, 137349, 1800940, 24349230, 337002249, 4751319246, 67998098442, 985259083545, 14425004311264, 213071443745517, 3171381844939998, 47518046125278896, 716152964777946240, 0, 0, 0, 0, 0, 0, 0, 0, 0, 0, 0, 0, 0, 0, 0, 0, 0, 0, 0, 0, 0, 0, 0, 0, 0, 0, 0, 0, 0, 0, 0, 0, 0, 0, 0, 0, 0, 0, 0, 0, 0, 0, 0, 0, 0, 0, 0, 0, 0, 0, 0, 0, 0, 0, 0, 0, 0, 0, 0, 0, 0, 0, 0, 0, 0, 0, 0, 0, 0, 0, 0, 0, 0, 0, 0, 0, 0, 0, 0, 0, 0, 0]\n",
            "M:   [0, 1, 2, 5, 15, 42, 142, 431, 1569, 4985, 18852, 61637, 239631, 799167, 3166494, 10714553, 43066185, 147347309, 0, 0, 0, 0, 0, 0, 0, 0, 0, 0, 0, 0, 0, 0, 0, 0, 0, 0, 0, 0, 0, 0, 0, 0, 0, 0, 0, 0, 0, 0, 0, 0, 0, 0, 0, 0, 0, 0, 0, 0, 0, 0, 0, 0, 0, 0, 0, 0, 0, 0, 0, 0, 0, 0, 0, 0, 0, 0, 0, 0, 0, 0, 0, 0, 0, 0, 0, 0, 0, 0, 0, 0, 0, 0, 0, 0, 0, 0, 0, 0, 0, 0]\n",
            "N:   [0, 1, 11, 115, 1317, 16077, 206217, 2741516, 37453041, 522599734, 7416401754, 106711985279, 1553183149869, 22827002789502, 338287492246650, 5049517014920544, 75848655957530320, 1145663422565087232, 0, 0, 0, 0, 0, 0, 0, 0, 0, 0, 0, 0, 0, 0, 0, 0, 0, 0, 0, 0, 0, 0, 0, 0, 0, 0, 0, 0, 0, 0, 0, 0, 0, 0, 0, 0, 0, 0, 0, 0, 0, 0, 0, 0, 0, 0, 0, 0, 0, 0, 0, 0, 0, 0, 0, 0, 0, 0, 0, 0, 0, 0, 0, 0, 0, 0, 0, 0, 0, 0, 0, 0, 0, 0, 0, 0, 0, 0, 0, 0, 0, 0]\n",
            "s_0: [0, 0, 4, 47, 578, 7254, 94779, 1275392, 17581962, 247042943, 3525449484, 50957989137, 744511422536, 10977277818233, 163128689525859, 2440810307989325, 36740298726195960, 555975905953711552, 0, 0, 0, 0, 0, 0, 0, 0, 0, 0, 0, 0, 0, 0, 0, 0, 0, 0, 0, 0, 0, 0, 0, 0, 0, 0, 0, 0, 0, 0, 0, 0, 0, 0, 0, 0, 0, 0, 0, 0, 0, 0, 0, 0, 0, 0, 0, 0, 0, 0, 0, 0, 0, 0, 0, 0, 0, 0, 0, 0, 0, 0, 0, 0, 0, 0, 0, 0, 0, 0, 0, 0, 0, 0, 0, 0, 0, 0, 0, 0, 0, 0]\n",
            "s_1: [0, 1, 1, 5, 8, 45, 81, 470, 912, 5474, 11110, 67986, 142247, 883916, 1889817, 11874263, 25803111, 163538361, 0, 0, 0, 0, 0, 0, 0, 0, 0, 0, 0, 0, 0, 0, 0, 0, 0, 0, 0, 0, 0, 0, 0, 0, 0, 0, 0, 0, 0, 0, 0, 0, 0, 0, 0, 0, 0, 0, 0, 0, 0, 0, 0, 0, 0, 0, 0, 0, 0, 0, 0, 0, 0, 0, 0, 0, 0, 0, 0, 0, 0, 0, 0, 0, 0, 0, 0, 0, 0, 0, 0, 0, 0, 0, 0, 0, 0, 0, 0, 0, 0, 0]\n"
          ]
        }
      ]
    },
    {
      "cell_type": "code",
      "source": [
        "print(t)"
      ],
      "metadata": {
        "colab": {
          "base_uri": "https://localhost:8080/"
        },
        "id": "-uzZE3uMv9Bz",
        "outputId": "f8d913a4-c5ad-4129-b706-d6cb2e66ad73"
      },
      "execution_count": 14,
      "outputs": [
        {
          "output_type": "stream",
          "name": "stdout",
          "text": [
            "[0, 1, 4, 21, 168, 1566, 16720, 190693, 2289774, 28513359, 365510528, 4796000656, 64160402181, 872447068287, 12030114471609, 167896397782184, 2368058522401474, 33711610641473076, 0, 0, 0, 0, 0, 0, 0, 0, 0, 0, 0, 0, 0, 0, 0, 0, 0, 0, 0, 0, 0, 0, 0, 0, 0, 0, 0, 0, 0, 0, 0, 0, 0, 0, 0, 0, 0, 0, 0, 0, 0, 0, 0, 0, 0, 0, 0, 0, 0, 0, 0, 0, 0, 0, 0, 0, 0, 0, 0, 0, 0, 0, 0, 0, 0, 0, 0, 0, 0, 0, 0, 0, 0, 0, 0, 0, 0, 0, 0, 0, 0, 0]\n"
          ]
        }
      ]
    }
  ]
}